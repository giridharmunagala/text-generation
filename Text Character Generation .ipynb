{
 "cells": [
  {
   "cell_type": "markdown",
   "metadata": {},
   "source": [
    "### Loading imports"
   ]
  },
  {
   "cell_type": "code",
   "execution_count": 23,
   "metadata": {},
   "outputs": [],
   "source": [
    "from __future__ import absolute_import, division, print_function, unicode_literals\n",
    "import tensorflow as tf\n",
    "import pandas as pd\n",
    "import numpy as np\n",
    "import os\n",
    "import time\n",
    "import requests\n",
    "from bs4 import BeautifulSoup\n",
    "import re\n",
    "import spacy\n",
    "import seaborn as sns\n",
    "import matplotlib.pyplot as plt\n",
    "from matplotlib import rc\n",
    "import pprint"
   ]
  },
  {
   "cell_type": "code",
   "execution_count": 25,
   "metadata": {},
   "outputs": [],
   "source": [
    "pp = pprint.PrettyPrinter(depth=6)"
   ]
  },
  {
   "cell_type": "markdown",
   "metadata": {},
   "source": [
    "### Getting  Hymns and Hymnwriters of Denmark By J.C. AABERG"
   ]
  },
  {
   "cell_type": "code",
   "execution_count": 34,
   "metadata": {},
   "outputs": [],
   "source": [
    "html = requests.get(url='http://www.gutenberg.org/cache/epub/29666/pg29666.txt')"
   ]
  },
  {
   "cell_type": "markdown",
   "metadata": {},
   "source": [
    "#### Removing html formatting tags using BeautifulSoup module"
   ]
  },
  {
   "cell_type": "code",
   "execution_count": 35,
   "metadata": {},
   "outputs": [],
   "source": [
    "cleantext = BeautifulSoup(html.text, \"lxml\").text"
   ]
  },
  {
   "cell_type": "code",
   "execution_count": 36,
   "metadata": {},
   "outputs": [],
   "source": [
    "cleantext = re.sub('\\n',' ',cleantext)\n",
    "cleantext = re.sub('\\r',' ',cleantext)\n",
    "cleantext = re.sub('\\ufeff',' ',cleantext)\n",
    "cleantext = re.sub('[ ]{2,}','',cleantext)"
   ]
  },
  {
   "cell_type": "code",
   "execution_count": 37,
   "metadata": {},
   "outputs": [],
   "source": [
    "vocab = sorted(set(cleantext))"
   ]
  },
  {
   "cell_type": "code",
   "execution_count": 38,
   "metadata": {},
   "outputs": [
    {
     "name": "stdout",
     "output_type": "stream",
     "text": [
      "Unique characters in the sentence : 86\n",
      "[' ', '!', '\"', '#', '$', '%', \"'\", '(', ')', '*', ',', '-', '.', '/', '0', '1', '2', '3', '4', '5', '6', '7', '8', '9', ':', ';', '?', '@', 'A', 'B', 'C', 'D', 'E', 'F', 'G', 'H', 'I', 'J', 'K', 'L', 'M', 'N', 'O', 'P', 'Q', 'R', 'S', 'T', 'U', 'V', 'W', 'X', 'Y', 'Z', '[', ']', '_', 'a', 'b', 'c', 'd', 'e', 'f', 'g', 'h', 'i', 'j', 'k', 'l', 'm', 'n', 'o', 'p', 'q', 'r', 's', 't', 'u', 'v', 'w', 'x', 'y', 'z', 'Ø', 'æ', 'ø']\n"
     ]
    }
   ],
   "source": [
    "print('Unique characters in the sentence :',len(vocab))\n",
    "print(vocab)"
   ]
  },
  {
   "cell_type": "markdown",
   "metadata": {},
   "source": [
    "#### Loading a spacy en small model for tokenization and stop word removal"
   ]
  },
  {
   "cell_type": "code",
   "execution_count": 39,
   "metadata": {},
   "outputs": [],
   "source": [
    "nlp_model = spacy.load('en_core_web_sm')"
   ]
  },
  {
   "cell_type": "code",
   "execution_count": 40,
   "metadata": {},
   "outputs": [],
   "source": [
    "spacy_document = nlp_model(cleantext)"
   ]
  },
  {
   "cell_type": "code",
   "execution_count": 41,
   "metadata": {},
   "outputs": [
    {
     "name": "stdout",
     "output_type": "stream",
     "text": [
      "Total No of tokens in the text : 60072\n"
     ]
    }
   ],
   "source": [
    "print('Total No of tokens in the text :',len(spacy_document))"
   ]
  },
  {
   "cell_type": "code",
   "execution_count": 42,
   "metadata": {},
   "outputs": [],
   "source": [
    "words = pd.DataFrame([token.text for token in spacy_document if not token.is_stop and not token.is_punct],columns=['word'])"
   ]
  },
  {
   "cell_type": "code",
   "execution_count": 43,
   "metadata": {},
   "outputs": [
    {
     "name": "stdout",
     "output_type": "stream",
     "text": [
      "Unique words : 10503\n"
     ]
    }
   ],
   "source": [
    "print('Unique words :',words['word'].nunique())"
   ]
  },
  {
   "cell_type": "code",
   "execution_count": 44,
   "metadata": {},
   "outputs": [],
   "source": [
    "ordered_frequency_words = words.groupby('word').agg('size').reset_index().rename(columns={0:'frequency_of_occurence'}).sort_values(by='frequency_of_occurence',\n",
    "                                                                                                        ascending=False)"
   ]
  },
  {
   "cell_type": "code",
   "execution_count": 45,
   "metadata": {},
   "outputs": [
    {
     "data": {
      "image/png": "[encoded data removed]",
      "text/plain": [
       "<Figure size 1080x432 with 1 Axes>"
      ]
     },
     "metadata": {
      "needs_background": "light"
     },
     "output_type": "display_data"
    }
   ],
   "source": [
    "plt.figure(figsize=(15,6))\n",
    "plot = sns.barplot(x=ordered_frequency_words['word'][:30],y=ordered_frequency_words['frequency_of_occurence'][:30])\n",
    "plot.set_xticklabels(plot.get_xticklabels(),rotation=45)\n",
    "plt.show(plot)"
   ]
  },
  {
   "cell_type": "markdown",
   "metadata": {},
   "source": [
    "#### Indexing characters"
   ]
  },
  {
   "cell_type": "code",
   "execution_count": 56,
   "metadata": {},
   "outputs": [],
   "source": [
    "index_dict = {character:index for character,index in zip(vocab,range(len(vocab)))}\n",
    "values_dict = {index:character for character,index in zip(vocab,range(len(vocab)))}"
   ]
  },
  {
   "cell_type": "code",
   "execution_count": 47,
   "metadata": {
    "scrolled": true
   },
   "outputs": [
    {
     "name": "stdout",
     "output_type": "stream",
     "text": [
      "{' ': 0,\n",
      " '!': 1,\n",
      " '\"': 2,\n",
      " '#': 3,\n",
      " '$': 4,\n",
      " '%': 5,\n",
      " \"'\": 6,\n",
      " '(': 7,\n",
      " ')': 8,\n",
      " '*': 9,\n",
      " ',': 10,\n",
      " '-': 11,\n",
      " '.': 12,\n",
      " '/': 13,\n",
      " '0': 14,\n",
      " '1': 15,\n",
      " '2': 16,\n",
      " '3': 17,\n",
      " '4': 18,\n",
      " '5': 19,\n",
      " '6': 20,\n",
      " '7': 21,\n",
      " '8': 22,\n",
      " '9': 23,\n",
      " ':': 24,\n",
      " ';': 25,\n",
      " '?': 26,\n",
      " '@': 27,\n",
      " 'A': 28,\n",
      " 'B': 29,\n",
      " 'C': 30,\n",
      " 'D': 31,\n",
      " 'E': 32,\n",
      " 'F': 33,\n",
      " 'G': 34,\n",
      " 'H': 35,\n",
      " 'I': 36,\n",
      " 'J': 37,\n",
      " 'K': 38,\n",
      " 'L': 39,\n",
      " 'M': 40,\n",
      " 'N': 41,\n",
      " 'O': 42,\n",
      " 'P': 43,\n",
      " 'Q': 44,\n",
      " 'R': 45,\n",
      " 'S': 46,\n",
      " 'T': 47,\n",
      " 'U': 48,\n",
      " 'V': 49,\n",
      " 'W': 50,\n",
      " 'X': 51,\n",
      " 'Y': 52,\n",
      " 'Z': 53,\n",
      " '[': 54,\n",
      " ']': 55,\n",
      " '_': 56,\n",
      " 'a': 57,\n",
      " 'b': 58,\n",
      " 'c': 59,\n",
      " 'd': 60,\n",
      " 'e': 61,\n",
      " 'f': 62,\n",
      " 'g': 63,\n",
      " 'h': 64,\n",
      " 'i': 65,\n",
      " 'j': 66,\n",
      " 'k': 67,\n",
      " 'l': 68,\n",
      " 'm': 69,\n",
      " 'n': 70,\n",
      " 'o': 71,\n",
      " 'p': 72,\n",
      " 'q': 73,\n",
      " 'r': 74,\n",
      " 's': 75,\n",
      " 't': 76,\n",
      " 'u': 77,\n",
      " 'v': 78,\n",
      " 'w': 79,\n",
      " 'x': 80,\n",
      " 'y': 81,\n",
      " 'z': 82,\n",
      " 'Ø': 83,\n",
      " 'æ': 84,\n",
      " 'ø': 85}\n"
     ]
    }
   ],
   "source": [
    "pp.pprint(index_dict)"
   ]
  },
  {
   "cell_type": "code",
   "execution_count": 48,
   "metadata": {},
   "outputs": [],
   "source": [
    "cleantext_numerical = np.array([index_dict[character] for character in cleantext])"
   ]
  },
  {
   "cell_type": "code",
   "execution_count": 49,
   "metadata": {},
   "outputs": [
    {
     "name": "stdout",
     "output_type": "stream",
     "text": [
      "' The Project '\n",
      "array([ 0, 47, 64, 61,  0, 43, 74, 71, 66, 61, 59, 76,  0])\n"
     ]
    }
   ],
   "source": [
    "pp.pprint(cleantext[:13])\n",
    "pp.pprint(cleantext_numerical[:13])"
   ]
  },
  {
   "cell_type": "code",
   "execution_count": 51,
   "metadata": {},
   "outputs": [],
   "source": [
    "data = tf.data.Dataset.from_tensor_slices(cleantext_numerical)"
   ]
  },
  {
   "cell_type": "code",
   "execution_count": 59,
   "metadata": {},
   "outputs": [
    {
     "name": "stdout",
     "output_type": "stream",
     "text": [
      "' '\n",
      "'T'\n",
      "'h'\n",
      "'e'\n",
      "' '\n"
     ]
    }
   ],
   "source": [
    "for i in data.take(5):\n",
    "      pp.pprint(values_dict[i.numpy()])"
   ]
  },
  {
   "cell_type": "code",
   "execution_count": 60,
   "metadata": {},
   "outputs": [],
   "source": [
    "input_seq_length = 100\n",
    "examples_per_epoch = len(cleantext)//input_seq_length"
   ]
  },
  {
   "cell_type": "code",
   "execution_count": 62,
   "metadata": {},
   "outputs": [],
   "source": [
    "character_sequences = data.batch(input_seq_length+1,drop_remainder=True)"
   ]
  },
  {
   "cell_type": "code",
   "execution_count": 63,
   "metadata": {},
   "outputs": [],
   "source": [
    "def get_input_output(sequence):\n",
    "    input_sequence = sequence[:-1]\n",
    "    output_sequence = sequence[1:]\n",
    "    return (input_sequence,output_sequence)\n",
    "\n",
    "train_data = character_sequences.map(get_input_output)"
   ]
  },
  {
   "cell_type": "code",
   "execution_count": 67,
   "metadata": {},
   "outputs": [
    {
     "name": "stdout",
     "output_type": "stream",
     "text": [
      "Input sequence\n",
      " The Project Gutenberg EBook of Hymns and Hymnwriters of Denmark, byJens Christian AabergThis eBook \n",
      "Output sequence\n",
      "The Project Gutenberg EBook of Hymns and Hymnwriters of Denmark, byJens Christian AabergThis eBook i\n",
      "Input sequence\n",
      "s for the use of anyone anywhere at no cost and withalmost no restrictions whatsoever.You may copy i\n",
      "Output sequence\n",
      " for the use of anyone anywhere at no cost and withalmost no restrictions whatsoever.You may copy it\n",
      "Input sequence\n",
      ", give it away orre-use it under the terms of the Project Gutenberg License includedwith this eBook \n",
      "Output sequence\n",
      " give it away orre-use it under the terms of the Project Gutenberg License includedwith this eBook o\n",
      "Input sequence\n",
      "r online at www.gutenberg.netTitle: Hymns and Hymnwriters of DenmarkAuthor: Jens Christian AabergRel\n",
      "Output sequence\n",
      " online at www.gutenberg.netTitle: Hymns and Hymnwriters of DenmarkAuthor: Jens Christian AabergRele\n",
      "Input sequence\n",
      "ase Date: August 11, 2009 [EBook #29666]Language: English*** START OF THIS PROJECT GUTENBERG EBOOK H\n",
      "Output sequence\n",
      "se Date: August 11, 2009 [EBook #29666]Language: English*** START OF THIS PROJECT GUTENBERG EBOOK HY\n",
      "Input sequence\n",
      "MNS AND HYMNWRITERS OF DENMARK ***Produced by Stephen Hutcheson and Ken JentschHymns and Hymnwriters\n",
      "Output sequence\n",
      "NS AND HYMNWRITERS OF DENMARK ***Produced by Stephen Hutcheson and Ken JentschHymns and Hymnwriters \n",
      "Input sequence\n",
      "of DenmarkByJ. C. AABERGPublished byThe Committee on Publicationof the Danish Evangelical Lutheran C\n",
      "Output sequence\n",
      "f DenmarkByJ. C. AABERGPublished byThe Committee on Publicationof the Danish Evangelical Lutheran Ch\n",
      "Input sequence\n",
      "urch in AmericaDes Moines, Ia.1945Copyright 1945The Danish Ev. Luth. Church In AmericaPrinted in Lut\n",
      "Output sequence\n",
      "rch in AmericaDes Moines, Ia.1945Copyright 1945The Danish Ev. Luth. Church In AmericaPrinted in Luth\n",
      "Input sequence\n",
      "eran Publishing HouseBlair, Nebr.ForewordThis book deals with a subject which is new to most English\n",
      "Output sequence\n",
      "ran Publishing HouseBlair, Nebr.ForewordThis book deals with a subject which is new to most English \n",
      "Input sequence\n",
      "readers. Forthough Danish hymnody long ago became favorably known in Northern Europe,no adequate pre\n",
      "Output sequence\n",
      "eaders. Forthough Danish hymnody long ago became favorably known in Northern Europe,no adequate pres\n"
     ]
    }
   ],
   "source": [
    "for inputelement,outputelement in train_data.take(10):\n",
    "    input_seq = ''\n",
    "    output_seq = ''\n",
    "    for e in inputelement.numpy():\n",
    "        input_seq += values_dict[e]\n",
    "    for e in outputelement.numpy():\n",
    "        output_seq += values_dict[e]\n",
    "    print('Input sequence')\n",
    "    print(input_seq)\n",
    "    print('Output sequence')\n",
    "    print(output_seq)"
   ]
  },
  {
   "cell_type": "code",
   "execution_count": 68,
   "metadata": {},
   "outputs": [],
   "source": [
    "BATCH_SIZE = 64\n",
    "BUFFER_SIZE = 10000\n",
    "train_data = train_data.shuffle(BUFFER_SIZE).batch(BATCH_SIZE, drop_remainder=True)"
   ]
  },
  {
   "cell_type": "code",
   "execution_count": 71,
   "metadata": {},
   "outputs": [],
   "source": [
    "vocab_size = len(vocab) #No of unique characters\n",
    "embedding_dim = 256 #Embedding vector size\n",
    "rnn_units = 1024 # No of rnn units\n",
    "model = tf.keras.Sequential()\n",
    "model.add(tf.keras.layers.Embedding(vocab_size, embedding_dim,batch_input_shape=[BATCH_SIZE, None]))\n",
    "model.add(tf.keras.layers.LSTM(rnn_units,return_sequences=True,stateful=True,recurrent_initializer='glorot_uniform'))\n",
    "model.add(tf.keras.layers.Dense(vocab_size))\n",
    "\n",
    "# sparse categorical crossentropy loss function \n",
    "def loss(labels, logits):\n",
    "    return tf.keras.losses.sparse_categorical_crossentropy(labels, logits, from_logits=True)\n",
    "\n",
    "model.compile(optimizer='adam', loss=loss)"
   ]
  },
  {
   "cell_type": "code",
   "execution_count": 72,
   "metadata": {},
   "outputs": [
    {
     "name": "stdout",
     "output_type": "stream",
     "text": [
      "Model: \"sequential\"\n",
      "_________________________________________________________________\n",
      "Layer (type)                 Output Shape              Param #   \n",
      "=================================================================\n",
      "embedding (Embedding)        (64, None, 256)           22016     \n",
      "_________________________________________________________________\n",
      "lstm (LSTM)                  (64, None, 1024)          5246976   \n",
      "_________________________________________________________________\n",
      "dense (Dense)                (64, None, 86)            88150     \n",
      "=================================================================\n",
      "Total params: 5,357,142\n",
      "Trainable params: 5,357,142\n",
      "Non-trainable params: 0\n",
      "_________________________________________________________________\n"
     ]
    }
   ],
   "source": [
    "model.summary()"
   ]
  },
  {
   "cell_type": "code",
   "execution_count": 75,
   "metadata": {},
   "outputs": [],
   "source": [
    "callbacks = tf.keras.callbacks.EarlyStopping(monitor='loss', min_delta=0, patience=2, verbose=1, mode='auto', baseline=None, restore_best_weights=True)"
   ]
  },
  {
   "cell_type": "code",
   "execution_count": 76,
   "metadata": {},
   "outputs": [
    {
     "name": "stdout",
     "output_type": "stream",
     "text": [
      "Epoch 1/20\n",
      "50/50 [==============================] - 502s 10s/step - loss: 2.4896\n",
      "Epoch 2/20\n",
      "50/50 [==============================] - 503s 10s/step - loss: 2.3272\n",
      "Epoch 3/20\n",
      "50/50 [==============================] - 448s 9s/step - loss: 2.1798\n",
      "Epoch 4/20\n",
      "50/50 [==============================] - 501s 10s/step - loss: 2.0481\n",
      "Epoch 5/20\n",
      "50/50 [==============================] - 505s 10s/step - loss: 1.9307\n",
      "Epoch 6/20\n",
      "50/50 [==============================] - 507s 10s/step - loss: 1.8282\n",
      "Epoch 7/20\n",
      "50/50 [==============================] - 585s 12s/step - loss: 1.7402\n",
      "Epoch 8/20\n",
      "50/50 [==============================] - 485s 10s/step - loss: 1.6648\n",
      "Epoch 9/20\n",
      "50/50 [==============================] - 430s 9s/step - loss: 1.5950\n",
      "Epoch 10/20\n",
      "50/50 [==============================] - 431s 9s/step - loss: 1.5334\n",
      "Epoch 11/20\n",
      "50/50 [==============================] - 477s 10s/step - loss: 1.4785\n",
      "Epoch 12/20\n",
      "50/50 [==============================] - 416s 8s/step - loss: 1.4288\n",
      "Epoch 13/20\n",
      "50/50 [==============================] - 416s 8s/step - loss: 1.3853\n",
      "Epoch 14/20\n",
      "50/50 [==============================] - 408s 8s/step - loss: 1.3404\n",
      "Epoch 15/20\n",
      "50/50 [==============================] - 407s 8s/step - loss: 1.2961\n",
      "Epoch 16/20\n",
      "50/50 [==============================] - 427s 9s/step - loss: 1.2543\n",
      "Epoch 17/20\n",
      "50/50 [==============================] - 393s 8s/step - loss: 1.2123\n",
      "Epoch 18/20\n",
      "50/50 [==============================] - 392s 8s/step - loss: 1.1735\n",
      "Epoch 19/20\n",
      "50/50 [==============================] - 385s 8s/step - loss: 1.1311\n",
      "Epoch 20/20\n",
      "50/50 [==============================] - 393s 8s/step - loss: 1.0856\n"
     ]
    },
    {
     "data": {
      "text/plain": [
       "<tensorflow.python.keras.callbacks.History at 0x7f7ad81f1ef0>"
      ]
     },
     "execution_count": 76,
     "metadata": {},
     "output_type": "execute_result"
    }
   ],
   "source": [
    "model.fit(train_data, epochs=20, callbacks=[callbacks])"
   ]
  },
  {
   "cell_type": "code",
   "execution_count": 77,
   "metadata": {},
   "outputs": [],
   "source": [
    "model.save('/home/giridhar/Downloads/generation_lstm.h5')"
   ]
  },
  {
   "cell_type": "code",
   "execution_count": 83,
   "metadata": {},
   "outputs": [],
   "source": [
    "model.save_weights('/home/giridhar/Downloads/generation_lstms_weights.h5')"
   ]
  },
  {
   "cell_type": "code",
   "execution_count": 85,
   "metadata": {},
   "outputs": [
    {
     "data": {
      "text/plain": [
       "'{\"class_name\": \"Sequential\", \"config\": {\"name\": \"sequential\", \"layers\": [{\"class_name\": \"Embedding\", \"config\": {\"name\": \"embedding\", \"trainable\": true, \"batch_input_shape\": [64, null], \"dtype\": \"float32\", \"input_dim\": 86, \"output_dim\": 256, \"embeddings_initializer\": {\"class_name\": \"RandomUniform\", \"config\": {\"minval\": -0.05, \"maxval\": 0.05, \"seed\": null}}, \"embeddings_regularizer\": null, \"activity_regularizer\": null, \"embeddings_constraint\": null, \"mask_zero\": false, \"input_length\": null}}, {\"class_name\": \"LSTM\", \"config\": {\"name\": \"lstm\", \"trainable\": true, \"dtype\": \"float32\", \"return_sequences\": true, \"return_state\": false, \"go_backwards\": false, \"stateful\": true, \"unroll\": false, \"time_major\": false, \"units\": 1024, \"activation\": \"tanh\", \"recurrent_activation\": \"sigmoid\", \"use_bias\": true, \"kernel_initializer\": {\"class_name\": \"GlorotUniform\", \"config\": {\"seed\": null}}, \"recurrent_initializer\": {\"class_name\": \"GlorotUniform\", \"config\": {\"seed\": null}}, \"bias_initializer\": {\"class_name\": \"Zeros\", \"config\": {}}, \"unit_forget_bias\": true, \"kernel_regularizer\": null, \"recurrent_regularizer\": null, \"bias_regularizer\": null, \"activity_regularizer\": null, \"kernel_constraint\": null, \"recurrent_constraint\": null, \"bias_constraint\": null, \"dropout\": 0.0, \"recurrent_dropout\": 0.0, \"implementation\": 2}}, {\"class_name\": \"Dense\", \"config\": {\"name\": \"dense\", \"trainable\": true, \"dtype\": \"float32\", \"units\": 86, \"activation\": \"linear\", \"use_bias\": true, \"kernel_initializer\": {\"class_name\": \"GlorotUniform\", \"config\": {\"seed\": null}}, \"bias_initializer\": {\"class_name\": \"Zeros\", \"config\": {}}, \"kernel_regularizer\": null, \"bias_regularizer\": null, \"activity_regularizer\": null, \"kernel_constraint\": null, \"bias_constraint\": null}}]}, \"keras_version\": \"2.2.4-tf\", \"backend\": \"tensorflow\"}'"
      ]
     },
     "execution_count": 85,
     "metadata": {},
     "output_type": "execute_result"
    }
   ],
   "source": [
    "model.to_json()"
   ]
  },
  {
   "cell_type": "code",
   "execution_count": 81,
   "metadata": {},
   "outputs": [],
   "source": [
    "from tensorflow.keras.models import load_model"
   ]
  },
  {
   "cell_type": "code",
   "execution_count": 92,
   "metadata": {},
   "outputs": [],
   "source": [
    "saved_vocab_size = len(vocab) #No of unique characters\n",
    "saved_embedding_dim = 256 #Embedding vector size\n",
    "saved_rnn_units = 1024 # No of rnn units\n",
    "saved_model = tf.keras.Sequential()\n",
    "saved_model.add(tf.keras.layers.Embedding(vocab_size, embedding_dim,batch_input_shape=[1, None]))\n",
    "saved_model.add(tf.keras.layers.LSTM(rnn_units,return_sequences=True,stateful=True,recurrent_initializer='glorot_uniform'))\n",
    "saved_model.add(tf.keras.layers.Dense(vocab_size))\\"
   ]
  },
  {
   "cell_type": "code",
   "execution_count": 93,
   "metadata": {},
   "outputs": [],
   "source": [
    "saved_model.load_weights('/home/giridhar/Downloads/generation_lstms_weights.h5')"
   ]
  },
  {
   "cell_type": "code",
   "execution_count": 94,
   "metadata": {},
   "outputs": [],
   "source": [
    "saved_model.build(tf.TensorShape([1, None]))"
   ]
  },
  {
   "cell_type": "code",
   "execution_count": 95,
   "metadata": {},
   "outputs": [
    {
     "name": "stdout",
     "output_type": "stream",
     "text": [
      "Model: \"sequential_2\"\n",
      "_________________________________________________________________\n",
      "Layer (type)                 Output Shape              Param #   \n",
      "=================================================================\n",
      "embedding_2 (Embedding)      (1, None, 256)            22016     \n",
      "_________________________________________________________________\n",
      "lstm_2 (LSTM)                (1, None, 1024)           5246976   \n",
      "_________________________________________________________________\n",
      "dense_2 (Dense)              (1, None, 86)             88150     \n",
      "=================================================================\n",
      "Total params: 5,357,142\n",
      "Trainable params: 5,357,142\n",
      "Non-trainable params: 0\n",
      "_________________________________________________________________\n"
     ]
    }
   ],
   "source": [
    "saved_model.summary()"
   ]
  },
  {
   "cell_type": "code",
   "execution_count": 104,
   "metadata": {},
   "outputs": [
    {
     "name": "stdout",
     "output_type": "stream",
     "text": [
      "All hail to you commayThe hoarts, pe acidian, \"Spiritual Sonsom is us first in these that he said, \"-joy he had fear that the pastoral, bewas not only a new questions of positions which in his highty in the collection of a family of their own.\"The every family was, homento of His name and study even the suchaments contributions to the day is by a format challation.Whan, when by paradised may not leading our Lord and lovely,shearthf theirtued nour, and the book_, but he hashe spirit, but itof their isand made but one of the same like a man ofthe part of his state of the faith of a large them to his hisbability. Asthe material seems toward have.It is only through these disportances rightWe we shate hishand faith is here. Here and bring at all in the enested in thespirit of these assemblies in this earlier Danish poetly a compulsion. The resemble his state of a lows of prout himself best their work herespecially statements of his life. For hath beloved of atorn by another in their take was were became h\n"
     ]
    }
   ],
   "source": [
    "start_string = 'All hail to you'\n",
    "num_characters_to_generate = 1000\n",
    "input_eval = [index_dict[s] for s in start_string]\n",
    "input_eval = tf.expand_dims(input_eval, 0)\n",
    "temperature = 0.8\n",
    "predicted_text = start_string\n",
    "saved_model.reset_states()\n",
    "for i in range(num_characters_to_generate):\n",
    "    predictions = saved_model(input_eval)\n",
    "    predictions = tf.squeeze(predictions, 0)\n",
    "    predictions = predictions / temperature\n",
    "    predicted_id = tf.random.categorical(predictions, num_samples=1)[-1,0].numpy()\n",
    "    input_eval = tf.expand_dims([predicted_id], 0)\n",
    "    predicted_text += values_dict[predicted_id]\n",
    "    \n",
    "print(predicted_text)\n"
   ]
  },
  {
   "cell_type": "code",
   "execution_count": null,
   "metadata": {},
   "outputs": [],
   "source": []
  }
 ],
 "metadata": {
  "kernelspec": {
   "display_name": "Python 3",
   "language": "python",
   "name": "python3"
  },
  "language_info": {
   "codemirror_mode": {
    "name": "ipython",
    "version": 3
   },
   "file_extension": ".py",
   "mimetype": "text/x-python",
   "name": "python",
   "nbconvert_exporter": "python",
   "pygments_lexer": "ipython3",
   "version": "3.7.3"
  }
 },
 "nbformat": 4,
 "nbformat_minor": 2
}
